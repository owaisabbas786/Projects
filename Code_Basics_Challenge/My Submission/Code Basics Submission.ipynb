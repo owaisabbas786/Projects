{
 "cells": [
  {
   "cell_type": "markdown",
   "id": "9e6b4771",
   "metadata": {},
   "source": [
    "### Codebasics Resume Project Challenge"
   ]
  },
  {
   "cell_type": "markdown",
   "id": "325f994d",
   "metadata": {},
   "source": [
    "#### Current Challenge :\n",
    "\n",
    "Provide Insights to Revenue Team in Hospitality Domain"
   ]
  },
  {
   "cell_type": "markdown",
   "id": "d7a4c6da",
   "metadata": {},
   "source": [
    "### Domain:  Hospitality             \n",
    "### Function: Revenue"
   ]
  },
  {
   "cell_type": "markdown",
   "id": "c3c5c265",
   "metadata": {},
   "source": [
    "Atliq Grands owns multiple five-star hotels across India.\n",
    " They have been in the hospitality industry for the past 20 years.\n",
    " Due to strategic moves from other competitors and ineffective decision-making in management,\n",
    " Atliq Grands are losing its market share and revenue in the luxury/business hotels category. \n",
    "As a strategic move, the managing director of Atliq Grands wanted to incorporate “Business and Data Intelligence” in order to regain their market share and revenue. However, they do not have an in-house data analytics team to provide them with these insights.\n",
    "\n",
    "\n",
    "Their revenue management team had decided to hire a 3rd party service provider to provide them insights from their historical data."
   ]
  },
  {
   "cell_type": "markdown",
   "id": "4a9b8b7a",
   "metadata": {},
   "source": [
    "## Task:  \n",
    "\n",
    "You are a data analyst who has been provided with sample data and a mock-up dashboard to work on the following task. You can download all relevant documents from the download section.\n",
    "\n",
    "1. Create the metrics according to the metric list.\n",
    "2. Create a dashboard according to the mock-up provided by stakeholders.\n",
    "3. Create relevant insights that are not provided in the metric list/mock-up dashboard."
   ]
  },
  {
   "cell_type": "markdown",
   "id": "df21646d",
   "metadata": {},
   "source": [
    "#### Metrics on which we have to work\n",
    "### Sno\t Measures\t                        Description\n",
    "1.\tRevenue                  -          Sum of revenue_realized\n",
    "2.\tTotal Bookings\t          -         Count of booking_id in fact_bookings\n",
    "3.\tAverage Rating\t          -         Average of ratings_given\n",
    "4.\tTotal Capacity\t          -         Sum of capacity\n",
    "5.\tTotal Succesful bookings  -\t       Sum of successful_bookings from fact_bookings\n",
    "6.\tOccupancy %\t              -        Ratio of Total Successful Bookings to Total Capacity\n",
    "7.\tTotal Cancelled Bookings  -\t       Count of booking_id in which booking_status = \"Cancelled\"\n",
    "8.\tCancellation Rate\t      -          Ratio of 'Total Cancelled Bookings' to 'Total Bookings'"
   ]
  },
  {
   "cell_type": "markdown",
   "id": "38e3e180",
   "metadata": {},
   "source": [
    "#### importing the required libraries "
   ]
  },
  {
   "cell_type": "code",
   "execution_count": 1,
   "id": "32b8621f",
   "metadata": {},
   "outputs": [],
   "source": [
    "import pandas as pd\n",
    "import numpy as np"
   ]
  },
  {
   "cell_type": "markdown",
   "id": "afd75e6c",
   "metadata": {},
   "source": [
    "### loading the dataframe"
   ]
  },
  {
   "cell_type": "code",
   "execution_count": 2,
   "id": "7f962db6",
   "metadata": {},
   "outputs": [],
   "source": [
    "df=pd.read_csv('C:/Users/STUDENT-03/Desktop/Code Basics Challenge/fact_bookings.csv',parse_dates=['check_in_date','checkout_date'])"
   ]
  },
  {
   "cell_type": "markdown",
   "id": "fbf4cbd2",
   "metadata": {},
   "source": [
    "### checking the first five rows of the dataset"
   ]
  },
  {
   "cell_type": "code",
   "execution_count": 3,
   "id": "a6384c24",
   "metadata": {},
   "outputs": [
    {
     "data": {
      "text/html": [
       "<div>\n",
       "<style scoped>\n",
       "    .dataframe tbody tr th:only-of-type {\n",
       "        vertical-align: middle;\n",
       "    }\n",
       "\n",
       "    .dataframe tbody tr th {\n",
       "        vertical-align: top;\n",
       "    }\n",
       "\n",
       "    .dataframe thead th {\n",
       "        text-align: right;\n",
       "    }\n",
       "</style>\n",
       "<table border=\"1\" class=\"dataframe\">\n",
       "  <thead>\n",
       "    <tr style=\"text-align: right;\">\n",
       "      <th></th>\n",
       "      <th>booking_id</th>\n",
       "      <th>property_id</th>\n",
       "      <th>booking_date</th>\n",
       "      <th>check_in_date</th>\n",
       "      <th>checkout_date</th>\n",
       "      <th>no_guests</th>\n",
       "      <th>room_category</th>\n",
       "      <th>booking_platform</th>\n",
       "      <th>ratings_given</th>\n",
       "      <th>booking_status</th>\n",
       "      <th>revenue_generated</th>\n",
       "      <th>revenue_realized</th>\n",
       "    </tr>\n",
       "  </thead>\n",
       "  <tbody>\n",
       "    <tr>\n",
       "      <th>0</th>\n",
       "      <td>May012216558RT11</td>\n",
       "      <td>16558</td>\n",
       "      <td>2022-04-27</td>\n",
       "      <td>2022-05-01</td>\n",
       "      <td>2022-05-02</td>\n",
       "      <td>3</td>\n",
       "      <td>RT1</td>\n",
       "      <td>direct online</td>\n",
       "      <td>1.0</td>\n",
       "      <td>Checked Out</td>\n",
       "      <td>10010</td>\n",
       "      <td>10010</td>\n",
       "    </tr>\n",
       "    <tr>\n",
       "      <th>1</th>\n",
       "      <td>May012216558RT12</td>\n",
       "      <td>16558</td>\n",
       "      <td>2022-04-30</td>\n",
       "      <td>2022-05-01</td>\n",
       "      <td>2022-05-02</td>\n",
       "      <td>2</td>\n",
       "      <td>RT1</td>\n",
       "      <td>others</td>\n",
       "      <td>NaN</td>\n",
       "      <td>Cancelled</td>\n",
       "      <td>9100</td>\n",
       "      <td>3640</td>\n",
       "    </tr>\n",
       "    <tr>\n",
       "      <th>2</th>\n",
       "      <td>May012216558RT13</td>\n",
       "      <td>16558</td>\n",
       "      <td>2022-04-28</td>\n",
       "      <td>2022-05-01</td>\n",
       "      <td>2022-05-04</td>\n",
       "      <td>2</td>\n",
       "      <td>RT1</td>\n",
       "      <td>logtrip</td>\n",
       "      <td>5.0</td>\n",
       "      <td>Checked Out</td>\n",
       "      <td>9100</td>\n",
       "      <td>9100</td>\n",
       "    </tr>\n",
       "    <tr>\n",
       "      <th>3</th>\n",
       "      <td>May012216558RT14</td>\n",
       "      <td>16558</td>\n",
       "      <td>2022-04-28</td>\n",
       "      <td>2022-05-01</td>\n",
       "      <td>2022-05-02</td>\n",
       "      <td>2</td>\n",
       "      <td>RT1</td>\n",
       "      <td>others</td>\n",
       "      <td>NaN</td>\n",
       "      <td>Cancelled</td>\n",
       "      <td>9100</td>\n",
       "      <td>3640</td>\n",
       "    </tr>\n",
       "    <tr>\n",
       "      <th>4</th>\n",
       "      <td>May012216558RT15</td>\n",
       "      <td>16558</td>\n",
       "      <td>2022-04-27</td>\n",
       "      <td>2022-05-01</td>\n",
       "      <td>2022-05-02</td>\n",
       "      <td>4</td>\n",
       "      <td>RT1</td>\n",
       "      <td>direct online</td>\n",
       "      <td>5.0</td>\n",
       "      <td>Checked Out</td>\n",
       "      <td>10920</td>\n",
       "      <td>10920</td>\n",
       "    </tr>\n",
       "  </tbody>\n",
       "</table>\n",
       "</div>"
      ],
      "text/plain": [
       "         booking_id  property_id booking_date check_in_date checkout_date  \\\n",
       "0  May012216558RT11        16558   2022-04-27    2022-05-01    2022-05-02   \n",
       "1  May012216558RT12        16558   2022-04-30    2022-05-01    2022-05-02   \n",
       "2  May012216558RT13        16558   2022-04-28    2022-05-01    2022-05-04   \n",
       "3  May012216558RT14        16558   2022-04-28    2022-05-01    2022-05-02   \n",
       "4  May012216558RT15        16558   2022-04-27    2022-05-01    2022-05-02   \n",
       "\n",
       "   no_guests room_category booking_platform  ratings_given booking_status  \\\n",
       "0          3           RT1    direct online            1.0    Checked Out   \n",
       "1          2           RT1           others            NaN      Cancelled   \n",
       "2          2           RT1          logtrip            5.0    Checked Out   \n",
       "3          2           RT1           others            NaN      Cancelled   \n",
       "4          4           RT1    direct online            5.0    Checked Out   \n",
       "\n",
       "   revenue_generated  revenue_realized  \n",
       "0              10010             10010  \n",
       "1               9100              3640  \n",
       "2               9100              9100  \n",
       "3               9100              3640  \n",
       "4              10920             10920  "
      ]
     },
     "execution_count": 3,
     "metadata": {},
     "output_type": "execute_result"
    }
   ],
   "source": [
    "df.head()"
   ]
  },
  {
   "cell_type": "markdown",
   "id": "44dfd2db",
   "metadata": {},
   "source": [
    "### checking the basic information about the dataset"
   ]
  },
  {
   "cell_type": "code",
   "execution_count": 4,
   "id": "51cdde14",
   "metadata": {},
   "outputs": [
    {
     "data": {
      "text/plain": [
       "(134590, 12)"
      ]
     },
     "execution_count": 4,
     "metadata": {},
     "output_type": "execute_result"
    }
   ],
   "source": [
    "df.shape"
   ]
  },
  {
   "cell_type": "code",
   "execution_count": 5,
   "id": "ce5c33da",
   "metadata": {},
   "outputs": [
    {
     "name": "stdout",
     "output_type": "stream",
     "text": [
      "<class 'pandas.core.frame.DataFrame'>\n",
      "RangeIndex: 134590 entries, 0 to 134589\n",
      "Data columns (total 12 columns):\n",
      " #   Column             Non-Null Count   Dtype         \n",
      "---  ------             --------------   -----         \n",
      " 0   booking_id         134590 non-null  object        \n",
      " 1   property_id        134590 non-null  int64         \n",
      " 2   booking_date       134590 non-null  object        \n",
      " 3   check_in_date      134590 non-null  datetime64[ns]\n",
      " 4   checkout_date      134590 non-null  datetime64[ns]\n",
      " 5   no_guests          134590 non-null  int64         \n",
      " 6   room_category      134590 non-null  object        \n",
      " 7   booking_platform   134590 non-null  object        \n",
      " 8   ratings_given      56683 non-null   float64       \n",
      " 9   booking_status     134590 non-null  object        \n",
      " 10  revenue_generated  134590 non-null  int64         \n",
      " 11  revenue_realized   134590 non-null  int64         \n",
      "dtypes: datetime64[ns](2), float64(1), int64(4), object(5)\n",
      "memory usage: 12.3+ MB\n"
     ]
    }
   ],
   "source": [
    "df.info()"
   ]
  },
  {
   "cell_type": "markdown",
   "id": "dc65f0c9",
   "metadata": {},
   "source": [
    "\n",
    "### 1. There are nan values present so we will first prepare the data "
   ]
  },
  {
   "cell_type": "markdown",
   "id": "67b3de11",
   "metadata": {},
   "source": [
    "### checking for the nan values"
   ]
  },
  {
   "cell_type": "code",
   "execution_count": 6,
   "id": "6dbba713",
   "metadata": {},
   "outputs": [
    {
     "data": {
      "text/plain": [
       "booking_id               0\n",
       "property_id              0\n",
       "booking_date             0\n",
       "check_in_date            0\n",
       "checkout_date            0\n",
       "no_guests                0\n",
       "room_category            0\n",
       "booking_platform         0\n",
       "ratings_given        77907\n",
       "booking_status           0\n",
       "revenue_generated        0\n",
       "revenue_realized         0\n",
       "dtype: int64"
      ]
     },
     "execution_count": 6,
     "metadata": {},
     "output_type": "execute_result"
    }
   ],
   "source": [
    "df.isnull().sum()"
   ]
  },
  {
   "cell_type": "markdown",
   "id": "371211fe",
   "metadata": {},
   "source": [
    "### We need the ratings values so we can't drop the nan values so we will try to fill the nan values"
   ]
  },
  {
   "cell_type": "markdown",
   "id": "6df03b35",
   "metadata": {},
   "source": [
    "### checking the distribution of the ratings "
   ]
  },
  {
   "cell_type": "code",
   "execution_count": 7,
   "id": "0f90dce3",
   "metadata": {},
   "outputs": [
    {
     "data": {
      "text/plain": [
       "<AxesSubplot:ylabel='Density'>"
      ]
     },
     "execution_count": 7,
     "metadata": {},
     "output_type": "execute_result"
    },
    {
     "data": {
      "image/png": "[encoded data removed]",
      "text/plain": [
       "<Figure size 432x288 with 1 Axes>"
      ]
     },
     "metadata": {
      "needs_background": "light"
     },
     "output_type": "display_data"
    }
   ],
   "source": [
    "df['ratings_given'].plot(kind='kde')"
   ]
  },
  {
   "cell_type": "markdown",
   "id": "97fc893a",
   "metadata": {},
   "source": [
    "### Doing the mean imputation and checking the distribution"
   ]
  },
  {
   "cell_type": "code",
   "execution_count": 8,
   "id": "72abb810",
   "metadata": {},
   "outputs": [],
   "source": [
    "\n",
    "mean=df['ratings_given'].fillna(df['ratings_given'].mean())"
   ]
  },
  {
   "cell_type": "code",
   "execution_count": 9,
   "id": "99861cc6",
   "metadata": {},
   "outputs": [
    {
     "data": {
      "text/plain": [
       "<AxesSubplot:ylabel='Density'>"
      ]
     },
     "execution_count": 9,
     "metadata": {},
     "output_type": "execute_result"
    },
    {
     "data": {
      "image/png": "[encoded data removed]",
      "text/plain": [
       "<Figure size 432x288 with 1 Axes>"
      ]
     },
     "metadata": {
      "needs_background": "light"
     },
     "output_type": "display_data"
    }
   ],
   "source": [
    "mean.plot(kind='kde')"
   ]
  },
  {
   "cell_type": "markdown",
   "id": "fb446f3d",
   "metadata": {},
   "source": [
    "### there was a huge distortion in the variance of the mean so we didn't actually fill the nan values with the mean and we checked for the median"
   ]
  },
  {
   "cell_type": "code",
   "execution_count": 10,
   "id": "c14e6792",
   "metadata": {},
   "outputs": [],
   "source": [
    "med=df['ratings_given'].fillna(df['ratings_given'].median())"
   ]
  },
  {
   "cell_type": "code",
   "execution_count": 11,
   "id": "e41d0a23",
   "metadata": {},
   "outputs": [
    {
     "data": {
      "text/plain": [
       "<AxesSubplot:ylabel='Density'>"
      ]
     },
     "execution_count": 11,
     "metadata": {},
     "output_type": "execute_result"
    },
    {
     "data": {
      "image/png": "[encoded data removed]",
      "text/plain": [
       "<Figure size 432x288 with 1 Axes>"
      ]
     },
     "metadata": {
      "needs_background": "light"
     },
     "output_type": "display_data"
    }
   ],
   "source": [
    "med.plot(kind='kde')"
   ]
  },
  {
   "cell_type": "markdown",
   "id": "059f5dfb",
   "metadata": {},
   "source": [
    "### again there was a huge distortion in the data so we dropped the median idea also and now"
   ]
  },
  {
   "cell_type": "markdown",
   "id": "92663919",
   "metadata": {},
   "source": [
    "### we tried random sampling here and checked the distortion in the graph"
   ]
  },
  {
   "cell_type": "code",
   "execution_count": 12,
   "id": "616892d9",
   "metadata": {},
   "outputs": [],
   "source": [
    "random=df['ratings_given'].dropna().sample(df['ratings_given'].isnull().sum(),random_state=0,replace=True)\n",
    "random.index=df[df['ratings_given'].isnull()].index\n",
    "rand=df['ratings_given'].fillna(random)"
   ]
  },
  {
   "cell_type": "code",
   "execution_count": 13,
   "id": "074bdedb",
   "metadata": {},
   "outputs": [],
   "source": [
    "### checking the distribution after filling it with random values"
   ]
  },
  {
   "cell_type": "code",
   "execution_count": 14,
   "id": "eb51c4e3",
   "metadata": {},
   "outputs": [
    {
     "data": {
      "text/plain": [
       "<matplotlib.legend.Legend at 0x22983f4d970>"
      ]
     },
     "execution_count": 14,
     "metadata": {},
     "output_type": "execute_result"
    },
    {
     "data": {
      "image/png": "[encoded data removed]",
      "text/plain": [
       "<Figure size 432x288 with 1 Axes>"
      ]
     },
     "metadata": {
      "needs_background": "light"
     },
     "output_type": "display_data"
    }
   ],
   "source": [
    "import matplotlib.pyplot as plt\n",
    "fig=plt.figure()\n",
    "\n",
    "ax=fig.add_subplot(111)\n",
    "df['ratings_given'].plot(kind='kde',ax=ax,color='green') ### plotting the graph for the actual data\n",
    "#a.plot(kind='kde',ax=ax,color='red')\n",
    "rand.plot(kind='kde',ax=ax,color='blue') ### plotting the graph for the random sample imputation\n",
    "lines, labels = ax.get_legend_handles_labels()\n",
    "ax.legend(lines, labels, loc='best')"
   ]
  },
  {
   "cell_type": "markdown",
   "id": "6879eeab",
   "metadata": {},
   "source": [
    "### so from the graph we can see that there is not a huge difference in the graph so we will select this imputation to fill the nan values"
   ]
  },
  {
   "cell_type": "code",
   "execution_count": 15,
   "id": "b07b7f8e",
   "metadata": {},
   "outputs": [],
   "source": [
    "df['ratings_given'].fillna(rand,inplace=True)"
   ]
  },
  {
   "cell_type": "markdown",
   "id": "71f242cb",
   "metadata": {},
   "source": [
    "### Data Preparation is done"
   ]
  },
  {
   "cell_type": "markdown",
   "id": "ee8c83c8",
   "metadata": {},
   "source": [
    "### Creating a column called as number of spent days in hotel"
   ]
  },
  {
   "cell_type": "code",
   "execution_count": 16,
   "id": "2d69d289",
   "metadata": {},
   "outputs": [],
   "source": [
    "df['No of days spent in hotel']=df['checkout_date']-df['check_in_date']"
   ]
  },
  {
   "cell_type": "code",
   "execution_count": 17,
   "id": "ac381f06",
   "metadata": {},
   "outputs": [
    {
     "data": {
      "text/plain": [
       "1 days    64066\n",
       "2 days    27144\n",
       "5 days    13083\n",
       "6 days    12738\n",
       "3 days    10842\n",
       "4 days     6717\n",
       "Name: No of days spent in hotel, dtype: int64"
      ]
     },
     "execution_count": 17,
     "metadata": {},
     "output_type": "execute_result"
    }
   ],
   "source": [
    "df['No of days spent in hotel'].value_counts()"
   ]
  },
  {
   "cell_type": "code",
   "execution_count": 18,
   "id": "aab3c27e",
   "metadata": {},
   "outputs": [],
   "source": [
    "### changing the datatype of the ratings column"
   ]
  },
  {
   "cell_type": "code",
   "execution_count": 21,
   "id": "1a08e44e",
   "metadata": {},
   "outputs": [
    {
     "data": {
      "text/plain": [
       "0         1.0\n",
       "1         3.0\n",
       "2         5.0\n",
       "3         5.0\n",
       "4         5.0\n",
       "         ... \n",
       "134585    2.0\n",
       "134586    2.0\n",
       "134587    4.0\n",
       "134588    2.0\n",
       "134589    3.0\n",
       "Name: ratings_given, Length: 134590, dtype: float64"
      ]
     },
     "execution_count": 21,
     "metadata": {},
     "output_type": "execute_result"
    }
   ],
   "source": [
    "df['ratings_given'].astype(float)"
   ]
  },
  {
   "cell_type": "markdown",
   "id": "b91d4475",
   "metadata": {},
   "source": [
    "### merging the two csv files on the basis of the single col"
   ]
  },
  {
   "cell_type": "code",
   "execution_count": 28,
   "id": "eb9813c8",
   "metadata": {},
   "outputs": [],
   "source": [
    "### Reading the hotels csv files\n",
    "hot=pd.read_csv('C:/Users/STUDENT-03/Desktop/Code Basics Challenge/dim_hotels.csv')\n"
   ]
  },
  {
   "cell_type": "markdown",
   "id": "00c0af47",
   "metadata": {},
   "source": [
    "### merging the datasets"
   ]
  },
  {
   "cell_type": "code",
   "execution_count": 25,
   "id": "3599f2c1",
   "metadata": {},
   "outputs": [],
   "source": [
    "first_merge=df.merge(hot,on='property_id',how='inner')"
   ]
  },
  {
   "cell_type": "code",
   "execution_count": 26,
   "id": "418bdcf9",
   "metadata": {},
   "outputs": [
    {
     "data": {
      "text/plain": [
       "(134590, 16)"
      ]
     },
     "execution_count": 26,
     "metadata": {},
     "output_type": "execute_result"
    }
   ],
   "source": [
    "first_merge.shape"
   ]
  },
  {
   "cell_type": "code",
   "execution_count": 27,
   "id": "fc9529d5",
   "metadata": {},
   "outputs": [
    {
     "data": {
      "text/plain": [
       "Index(['booking_id', 'property_id', 'booking_date', 'check_in_date',\n",
       "       'checkout_date', 'no_guests', 'room_category', 'booking_platform',\n",
       "       'ratings_given', 'booking_status', 'revenue_generated',\n",
       "       'revenue_realized', 'No of days spent in hotel', 'property_name',\n",
       "       'category', 'city'],\n",
       "      dtype='object')"
      ]
     },
     "execution_count": 27,
     "metadata": {},
     "output_type": "execute_result"
    }
   ],
   "source": [
    "first_merge.columns"
   ]
  },
  {
   "cell_type": "markdown",
   "id": "435268f4",
   "metadata": {},
   "source": [
    "### reading the room csv file"
   ]
  },
  {
   "cell_type": "code",
   "execution_count": 30,
   "id": "bf12270f",
   "metadata": {},
   "outputs": [],
   "source": [
    "room_id=pd.read_csv('C:/Users/STUDENT-03/Desktop/Code Basics Challenge/dim_rooms.csv')"
   ]
  },
  {
   "cell_type": "code",
   "execution_count": 31,
   "id": "be6c25b0",
   "metadata": {},
   "outputs": [
    {
     "data": {
      "text/html": [
       "<div>\n",
       "<style scoped>\n",
       "    .dataframe tbody tr th:only-of-type {\n",
       "        vertical-align: middle;\n",
       "    }\n",
       "\n",
       "    .dataframe tbody tr th {\n",
       "        vertical-align: top;\n",
       "    }\n",
       "\n",
       "    .dataframe thead th {\n",
       "        text-align: right;\n",
       "    }\n",
       "</style>\n",
       "<table border=\"1\" class=\"dataframe\">\n",
       "  <thead>\n",
       "    <tr style=\"text-align: right;\">\n",
       "      <th></th>\n",
       "      <th>room_id</th>\n",
       "      <th>room_class</th>\n",
       "    </tr>\n",
       "  </thead>\n",
       "  <tbody>\n",
       "    <tr>\n",
       "      <th>0</th>\n",
       "      <td>RT1</td>\n",
       "      <td>Standard</td>\n",
       "    </tr>\n",
       "    <tr>\n",
       "      <th>1</th>\n",
       "      <td>RT2</td>\n",
       "      <td>Elite</td>\n",
       "    </tr>\n",
       "    <tr>\n",
       "      <th>2</th>\n",
       "      <td>RT3</td>\n",
       "      <td>Premium</td>\n",
       "    </tr>\n",
       "    <tr>\n",
       "      <th>3</th>\n",
       "      <td>RT4</td>\n",
       "      <td>Presidential</td>\n",
       "    </tr>\n",
       "  </tbody>\n",
       "</table>\n",
       "</div>"
      ],
      "text/plain": [
       "  room_id    room_class\n",
       "0     RT1      Standard\n",
       "1     RT2         Elite\n",
       "2     RT3       Premium\n",
       "3     RT4  Presidential"
      ]
     },
     "execution_count": 31,
     "metadata": {},
     "output_type": "execute_result"
    }
   ],
   "source": [
    "room_id"
   ]
  },
  {
   "cell_type": "markdown",
   "id": "0a03a9cc",
   "metadata": {},
   "source": [
    "#### We have to change the name of the column so that we can merge easily"
   ]
  },
  {
   "cell_type": "code",
   "execution_count": 33,
   "id": "4520ac71",
   "metadata": {},
   "outputs": [],
   "source": [
    "room_id.rename(columns={'room_id':'room_category'},inplace=True)"
   ]
  },
  {
   "cell_type": "code",
   "execution_count": 35,
   "id": "f165c060",
   "metadata": {},
   "outputs": [],
   "source": [
    "sec_merge=first_merge.merge(room_id,on='room_category',how='inner')"
   ]
  },
  {
   "cell_type": "code",
   "execution_count": 36,
   "id": "8852ab18",
   "metadata": {},
   "outputs": [
    {
     "data": {
      "text/plain": [
       "(134590, 17)"
      ]
     },
     "execution_count": 36,
     "metadata": {},
     "output_type": "execute_result"
    }
   ],
   "source": [
    "sec_merge.shape"
   ]
  },
  {
   "cell_type": "markdown",
   "id": "dfb4e7b2",
   "metadata": {},
   "source": [
    "### merging the aggregated bookings with the col"
   ]
  },
  {
   "cell_type": "code",
   "execution_count": 38,
   "id": "828ad950",
   "metadata": {},
   "outputs": [],
   "source": [
    "agg=pd.read_csv('C:/Users/STUDENT-03/Desktop/Code Basics Challenge/fact_aggregated_bookings.csv',parse_dates=['check_in_date'])"
   ]
  },
  {
   "cell_type": "code",
   "execution_count": 40,
   "id": "a5e09a90",
   "metadata": {},
   "outputs": [],
   "source": [
    "third_merge=sec_merge.merge(agg,on=['property_id','room_category','check_in_date'])"
   ]
  },
  {
   "cell_type": "markdown",
   "id": "2788eab9",
   "metadata": {},
   "source": [
    "### now we will merge the date csv file "
   ]
  },
  {
   "cell_type": "code",
   "execution_count": 42,
   "id": "885cba18",
   "metadata": {},
   "outputs": [],
   "source": [
    "date=pd.read_csv('C:/Users/STUDENT-03/Desktop/Code Basics Challenge/all files/Input Files/dim_date.csv',parse_dates=['date'])"
   ]
  },
  {
   "cell_type": "code",
   "execution_count": 43,
   "id": "20e62704",
   "metadata": {},
   "outputs": [
    {
     "data": {
      "text/html": [
       "<div>\n",
       "<style scoped>\n",
       "    .dataframe tbody tr th:only-of-type {\n",
       "        vertical-align: middle;\n",
       "    }\n",
       "\n",
       "    .dataframe tbody tr th {\n",
       "        vertical-align: top;\n",
       "    }\n",
       "\n",
       "    .dataframe thead th {\n",
       "        text-align: right;\n",
       "    }\n",
       "</style>\n",
       "<table border=\"1\" class=\"dataframe\">\n",
       "  <thead>\n",
       "    <tr style=\"text-align: right;\">\n",
       "      <th></th>\n",
       "      <th>date</th>\n",
       "      <th>mmm yy</th>\n",
       "      <th>week no</th>\n",
       "      <th>day_type</th>\n",
       "    </tr>\n",
       "  </thead>\n",
       "  <tbody>\n",
       "    <tr>\n",
       "      <th>0</th>\n",
       "      <td>2022-05-01</td>\n",
       "      <td>May 22</td>\n",
       "      <td>W 19</td>\n",
       "      <td>weekend</td>\n",
       "    </tr>\n",
       "    <tr>\n",
       "      <th>1</th>\n",
       "      <td>2022-05-02</td>\n",
       "      <td>May 22</td>\n",
       "      <td>W 19</td>\n",
       "      <td>weekeday</td>\n",
       "    </tr>\n",
       "    <tr>\n",
       "      <th>2</th>\n",
       "      <td>2022-05-03</td>\n",
       "      <td>May 22</td>\n",
       "      <td>W 19</td>\n",
       "      <td>weekeday</td>\n",
       "    </tr>\n",
       "    <tr>\n",
       "      <th>3</th>\n",
       "      <td>2022-05-04</td>\n",
       "      <td>May 22</td>\n",
       "      <td>W 19</td>\n",
       "      <td>weekeday</td>\n",
       "    </tr>\n",
       "    <tr>\n",
       "      <th>4</th>\n",
       "      <td>2022-05-05</td>\n",
       "      <td>May 22</td>\n",
       "      <td>W 19</td>\n",
       "      <td>weekeday</td>\n",
       "    </tr>\n",
       "  </tbody>\n",
       "</table>\n",
       "</div>"
      ],
      "text/plain": [
       "        date  mmm yy week no  day_type\n",
       "0 2022-05-01  May 22    W 19   weekend\n",
       "1 2022-05-02  May 22    W 19  weekeday\n",
       "2 2022-05-03  May 22    W 19  weekeday\n",
       "3 2022-05-04  May 22    W 19  weekeday\n",
       "4 2022-05-05  May 22    W 19  weekeday"
      ]
     },
     "execution_count": 43,
     "metadata": {},
     "output_type": "execute_result"
    }
   ],
   "source": [
    "date.head()"
   ]
  },
  {
   "cell_type": "code",
   "execution_count": 44,
   "id": "3e234c19",
   "metadata": {},
   "outputs": [],
   "source": [
    "date.rename(columns={'date':'check_in_date'},inplace=True)"
   ]
  },
  {
   "cell_type": "code",
   "execution_count": 45,
   "id": "2739f11f",
   "metadata": {},
   "outputs": [
    {
     "data": {
      "text/plain": [
       "(134590, 19)"
      ]
     },
     "execution_count": 45,
     "metadata": {},
     "output_type": "execute_result"
    }
   ],
   "source": [
    "third_merge.shape"
   ]
  },
  {
   "cell_type": "code",
   "execution_count": 47,
   "id": "19614a79",
   "metadata": {},
   "outputs": [],
   "source": [
    "fourth_merge=third_merge.merge(date,on='check_in_date')"
   ]
  },
  {
   "cell_type": "code",
   "execution_count": 48,
   "id": "90d45e6d",
   "metadata": {},
   "outputs": [
    {
     "data": {
      "text/plain": [
       "(134590, 22)"
      ]
     },
     "execution_count": 48,
     "metadata": {},
     "output_type": "execute_result"
    }
   ],
   "source": [
    "fourth_merge.shape"
   ]
  },
  {
   "cell_type": "markdown",
   "id": "f7ebba70",
   "metadata": {},
   "source": [
    "### Dropping the un-necessary columns"
   ]
  },
  {
   "cell_type": "markdown",
   "id": "1e315211",
   "metadata": {},
   "source": [
    "### assigning fourth merge to df"
   ]
  },
  {
   "cell_type": "code",
   "execution_count": 52,
   "id": "3597af92",
   "metadata": {},
   "outputs": [],
   "source": [
    "df=fourth_merge"
   ]
  },
  {
   "cell_type": "code",
   "execution_count": 53,
   "id": "4360661c",
   "metadata": {},
   "outputs": [
    {
     "data": {
      "text/plain": [
       "Index(['booking_id', 'property_id', 'booking_date', 'check_in_date',\n",
       "       'checkout_date', 'no_guests', 'room_category', 'booking_platform',\n",
       "       'ratings_given', 'booking_status', 'revenue_generated',\n",
       "       'revenue_realized', 'No of days spent in hotel', 'property_name',\n",
       "       'category', 'city', 'room_class', 'successful_bookings', 'capacity',\n",
       "       'mmm yy', 'week no', 'day_type'],\n",
       "      dtype='object')"
      ]
     },
     "execution_count": 53,
     "metadata": {},
     "output_type": "execute_result"
    }
   ],
   "source": [
    "df.columns"
   ]
  },
  {
   "cell_type": "markdown",
   "id": "6e4f5202",
   "metadata": {},
   "source": [
    "### we don't need property_id,room_category as we have already merged the dataset"
   ]
  },
  {
   "cell_type": "code",
   "execution_count": 55,
   "id": "b75fba8a",
   "metadata": {},
   "outputs": [],
   "source": [
    "df.drop(['property_id','room_category'],axis=1,inplace=True)"
   ]
  },
  {
   "cell_type": "code",
   "execution_count": 56,
   "id": "0b8b75b3",
   "metadata": {},
   "outputs": [
    {
     "data": {
      "text/plain": [
       "Index(['booking_id', 'booking_date', 'check_in_date', 'checkout_date',\n",
       "       'no_guests', 'booking_platform', 'ratings_given', 'booking_status',\n",
       "       'revenue_generated', 'revenue_realized', 'No of days spent in hotel',\n",
       "       'property_name', 'category', 'city', 'room_class',\n",
       "       'successful_bookings', 'capacity', 'mmm yy', 'week no', 'day_type'],\n",
       "      dtype='object')"
      ]
     },
     "execution_count": 56,
     "metadata": {},
     "output_type": "execute_result"
    }
   ],
   "source": [
    "df.columns"
   ]
  },
  {
   "cell_type": "markdown",
   "id": "00b44e2c",
   "metadata": {},
   "source": [
    "### Data Preparation Done"
   ]
  },
  {
   "cell_type": "markdown",
   "id": "fe18eae1",
   "metadata": {},
   "source": [
    "### finding out the ratio of sucessful bookings to the capacity of the rooms"
   ]
  },
  {
   "cell_type": "code",
   "execution_count": 59,
   "id": "e331093b",
   "metadata": {},
   "outputs": [],
   "source": [
    "df['successful_booking_ratio']=df['successful_bookings']/df['capacity']*100"
   ]
  },
  {
   "cell_type": "code",
   "execution_count": 60,
   "id": "69a2360d",
   "metadata": {},
   "outputs": [
    {
     "name": "stderr",
     "output_type": "stream",
     "text": [
      "C:\\Users\\ST0DE1~1\\AppData\\Local\\Temp/ipykernel_24304/2914906829.py:1: FutureWarning: Indexing with multiple keys (implicitly converted to a tuple of keys) will be deprecated, use a list instead.\n",
      "  df.groupby('property_name')['revenue_generated','revenue_realized'].agg('sum').plot.bar()\n"
     ]
    },
    {
     "data": {
      "image/png": "[encoded data removed]",
      "text/plain": [
       "<Figure size 432x288 with 1 Axes>"
      ]
     },
     "metadata": {
      "needs_background": "light"
     },
     "output_type": "display_data"
    }
   ],
   "source": [
    "df.groupby('property_name')['revenue_generated','revenue_realized'].agg('sum').plot.bar()\n",
    "plt.show()"
   ]
  },
  {
   "cell_type": "code",
   "execution_count": 61,
   "id": "9bb78ff8",
   "metadata": {},
   "outputs": [
    {
     "name": "stdout",
     "output_type": "stream",
     "text": [
      "<class 'pandas.core.frame.DataFrame'>\n",
      "Int64Index: 134590 entries, 0 to 134589\n",
      "Data columns (total 21 columns):\n",
      " #   Column                     Non-Null Count   Dtype          \n",
      "---  ------                     --------------   -----          \n",
      " 0   booking_id                 134590 non-null  object         \n",
      " 1   booking_date               134590 non-null  object         \n",
      " 2   check_in_date              134590 non-null  datetime64[ns] \n",
      " 3   checkout_date              134590 non-null  datetime64[ns] \n",
      " 4   no_guests                  134590 non-null  int64          \n",
      " 5   booking_platform           134590 non-null  object         \n",
      " 6   ratings_given              134590 non-null  float64        \n",
      " 7   booking_status             134590 non-null  object         \n",
      " 8   revenue_generated          134590 non-null  int64          \n",
      " 9   revenue_realized           134590 non-null  int64          \n",
      " 10  No of days spent in hotel  134590 non-null  timedelta64[ns]\n",
      " 11  property_name              134590 non-null  object         \n",
      " 12  category                   134590 non-null  object         \n",
      " 13  city                       134590 non-null  object         \n",
      " 14  room_class                 134590 non-null  object         \n",
      " 15  successful_bookings        134590 non-null  int64          \n",
      " 16  capacity                   134590 non-null  int64          \n",
      " 17  mmm yy                     134590 non-null  object         \n",
      " 18  week no                    134590 non-null  object         \n",
      " 19  day_type                   134590 non-null  object         \n",
      " 20  successful_booking_ratio   134590 non-null  float64        \n",
      "dtypes: datetime64[ns](2), float64(2), int64(5), object(11), timedelta64[ns](1)\n",
      "memory usage: 22.6+ MB\n"
     ]
    }
   ],
   "source": [
    "df.info()"
   ]
  },
  {
   "cell_type": "markdown",
   "id": "32a4cf97",
   "metadata": {},
   "source": [
    "### Further Visualization in Power Bi"
   ]
  },
  {
   "cell_type": "code",
   "execution_count": 63,
   "id": "b71ef1ea",
   "metadata": {},
   "outputs": [],
   "source": [
    "submission=df.to_csv('C:/Users/STUDENT-03/Desktop/Code Basics Challenge/all files/Input Files/code_basics_submissions.csv')"
   ]
  },
  {
   "cell_type": "code",
   "execution_count": null,
   "id": "18564a3c",
   "metadata": {},
   "outputs": [],
   "source": []
  }
 ],
 "metadata": {
  "kernelspec": {
   "display_name": "Python 3 (ipykernel)",
   "language": "python",
   "name": "python3"
  },
  "language_info": {
   "codemirror_mode": {
    "name": "ipython",
    "version": 3
   },
   "file_extension": ".py",
   "mimetype": "text/x-python",
   "name": "python",
   "nbconvert_exporter": "python",
   "pygments_lexer": "ipython3",
   "version": "3.9.7"
  }
 },
 "nbformat": 4,
 "nbformat_minor": 5
}
